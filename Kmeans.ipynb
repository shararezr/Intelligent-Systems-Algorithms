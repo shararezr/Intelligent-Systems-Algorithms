{
 "cells": [
  {
   "cell_type": "markdown",
   "metadata": {},
   "source": [
    "# Q1"
   ]
  },
  {
   "cell_type": "code",
   "execution_count": 48,
   "metadata": {},
   "outputs": [],
   "source": [
    "import numpy as np\n",
    "import pandas as pd\n",
    "import random\n",
    "import matplotlib.pyplot as plt"
   ]
  },
  {
   "cell_type": "code",
   "execution_count": 49,
   "metadata": {},
   "outputs": [],
   "source": [
    "train_data =  pd.read_csv(\"Train_Data.csv\")\n",
    "train_label =  pd.read_csv(\"Train_Labels.csv\")\n",
    "test_data =  pd.read_csv(\"Test_Data.csv\")\n",
    "test_label =  pd.read_csv(\"Test_Labels.csv\")"
   ]
  },
  {
   "cell_type": "markdown",
   "metadata": {},
   "source": [
    "### Kmeans (from scratch)"
   ]
  },
  {
   "cell_type": "code",
   "execution_count": 17,
   "metadata": {},
   "outputs": [],
   "source": [
    "def K_mean(df,k):\n",
    "    print('is loading . . . ')\n",
    "    \n",
    "    global_cost = []\n",
    "    global_kmean = []\n",
    "    labels = []\n",
    "    #remove duplicate data\n",
    "    datas = df.drop_duplicates()\n",
    "    index = list(datas.index.values.astype(int))\n",
    "    \n",
    "    for i in range(1000):\n",
    "        \n",
    "        data = datas.copy()\n",
    "        centroids = []\n",
    "        #initialize centroids\n",
    "        indexofcenteroids = random.sample(index, k)\n",
    "        for i in indexofcenteroids:\n",
    "            centroids.append(np.array(data.loc[i,:]))\n",
    "        boolean=True \n",
    "        costs = [-1]\n",
    "        while(boolean==True):                                  \n",
    "            #find closest centroid cluster\n",
    "            Kcenters = np.zeros([data.shape[0],3])\n",
    "            cnt = 0\n",
    "            for c in centroids:\n",
    "                Kcenters[:,cnt] = np.sqrt(((data.iloc[:,0:13] - c)**2).sum(axis=1))\n",
    "                cnt += 1\n",
    "\n",
    "            L = np.array(Kcenters).argmin(axis = 1)\n",
    "            data['cluster'] = L\n",
    "            \n",
    "            #move centroids\n",
    "            clusters = list(data['cluster'].unique())\n",
    "            clusters.sort()   \n",
    "            kmeans=[]\n",
    "            for c in clusters:\n",
    "                C = data[data['cluster'] == c]\n",
    "                means = C.iloc[:,0:13].mean(axis=0)\n",
    "                kmeans.append(np.array(means))\n",
    "        \n",
    "            centroids = np.array(kmeans)\n",
    "            \n",
    "\n",
    "            #compute cost\n",
    "            cost = 0\n",
    "            for j in range(len(kmeans)):\n",
    "                cluster = data[data['cluster'] == j]\n",
    "                cost += (np.sqrt(((cluster.iloc[:,0:13] - kmeans[j])**2).sum(axis=1))).sum()\n",
    "            #check convergence \n",
    "            if(costs.pop() == cost):\n",
    "                global_kmean.append(kmeans)\n",
    "                labels.append(L)\n",
    "                global_cost.append(cost)\n",
    "                boolean = False\n",
    "            else:\n",
    "                costs.append(cost)\n",
    "            \n",
    "        \n",
    "    bestcost = min(global_cost)\n",
    "    bestkmean = global_kmean[global_cost.index(min(global_cost))]\n",
    "    bestcluster = labels[global_cost.index(min(global_cost))]\n",
    "    return bestcost, bestkmean, bestcluster"
   ]
  },
  {
   "cell_type": "markdown",
   "metadata": {},
   "source": [
    "### Kmeans for predicted (Test Data)"
   ]
  },
  {
   "cell_type": "code",
   "execution_count": 18,
   "metadata": {},
   "outputs": [],
   "source": [
    "def kmean_predicted(data, centroids, label):\n",
    "    \n",
    "    data['label'] = label    \n",
    "    Kcenters = np.zeros([data.shape[0],3])\n",
    "    cnt = 0\n",
    "    for c in centroids:\n",
    "        Kcenters[:,cnt] = np.sqrt(((data.iloc[:,0:13] - np.array(c))**2).sum(axis=1))\n",
    "        cnt += 1\n",
    "\n",
    "    L = np.array(Kcenters).argmin(axis = 1) + 1\n",
    "    data['cluster'] = L\n",
    "    "
   ]
  },
  {
   "cell_type": "markdown",
   "metadata": {},
   "source": [
    "### Confusion Matrix"
   ]
  },
  {
   "cell_type": "code",
   "execution_count": 55,
   "metadata": {},
   "outputs": [],
   "source": [
    "def Confusion_Matrix(true_label, predicted_label):\n",
    "    \n",
    "    K = len(np.unique(true)) # Number of classes  \n",
    "    cm = np.zeros([k,k])\n",
    "    for i in range(len(true)):\n",
    "        cm[true_label[i]-1][predicted_label[i]-1] += 1\n",
    "    \n",
    "                \n",
    "    classes = ['1','2','3']\n",
    "    total_classes = len(classes)\n",
    "    level_labels = [total_classes*[0], list(range(total_classes))]\n",
    "\n",
    "    cm_frame1 = pd.DataFrame(data=cm,columns=pd.MultiIndex(levels=[['Predicted_label:'],\\\n",
    "                                                                  classes],codes=level_labels),\\\n",
    "                        index=pd.MultiIndex(levels=[['True_label:'], classes], codes=level_labels))\n",
    "    display(cm_frame1)"
   ]
  },
  {
   "cell_type": "markdown",
   "metadata": {},
   "source": [
    "### Train Data:"
   ]
  },
  {
   "cell_type": "code",
   "execution_count": 19,
   "metadata": {},
   "outputs": [
    {
     "name": "stdout",
     "output_type": "stream",
     "text": [
      "is loading . . . \n"
     ]
    }
   ],
   "source": [
    "cost,kmean,labels = K_mean(train_data,3)"
   ]
  },
  {
   "cell_type": "code",
   "execution_count": 20,
   "metadata": {},
   "outputs": [
    {
     "name": "stdout",
     "output_type": "stream",
     "text": [
      "cost value: 9959.260510624143\n"
     ]
    }
   ],
   "source": [
    "print(\"cost value:\",cost)"
   ]
  },
  {
   "cell_type": "code",
   "execution_count": 21,
   "metadata": {
    "scrolled": true
   },
   "outputs": [
    {
     "name": "stdout",
     "output_type": "stream",
     "text": [
      "center for cluster 1:\n"
     ]
    },
    {
     "data": {
      "text/plain": [
       "array([1.25717021e+01, 2.64787234e+00, 2.27787234e+00, 2.04489362e+01,\n",
       "       9.22127660e+01, 2.00978723e+00, 1.69872340e+00, 3.94893617e-01,\n",
       "       1.42063830e+00, 4.21574468e+00, 9.26170213e-01, 2.42765957e+00,\n",
       "       4.66595745e+02])"
      ]
     },
     "metadata": {},
     "output_type": "display_data"
    },
    {
     "name": "stdout",
     "output_type": "stream",
     "text": [
      "center for cluster 2:\n"
     ]
    },
    {
     "data": {
      "text/plain": [
       "array([1.28481081e+01, 2.43135135e+00, 2.39351351e+00, 1.98729730e+01,\n",
       "       9.97297297e+01, 2.08756757e+00, 1.61648649e+00, 4.14864865e-01,\n",
       "       1.45918919e+00, 5.44594595e+00, 8.92324324e-01, 2.43000000e+00,\n",
       "       7.36810811e+02])"
      ]
     },
     "metadata": {},
     "output_type": "display_data"
    },
    {
     "name": "stdout",
     "output_type": "stream",
     "text": [
      "center for cluster 3:\n"
     ]
    },
    {
     "data": {
      "text/plain": [
       "array([1.38652e+01, 1.83480e+00, 2.40560e+00, 1.74120e+01, 1.06040e+02,\n",
       "       2.84200e+00, 3.04120e+00, 2.84400e-01, 1.97520e+00, 5.53920e+00,\n",
       "       1.08400e+00, 3.10200e+00, 1.17448e+03])"
      ]
     },
     "metadata": {},
     "output_type": "display_data"
    }
   ],
   "source": [
    "for i in range(len(kmean)):\n",
    "    print(f'center for cluster {i+1}:')\n",
    "    display(kmean[i])"
   ]
  },
  {
   "cell_type": "code",
   "execution_count": 22,
   "metadata": {},
   "outputs": [
    {
     "data": {
      "text/html": [
       "<div>\n",
       "<style scoped>\n",
       "    .dataframe tbody tr th:only-of-type {\n",
       "        vertical-align: middle;\n",
       "    }\n",
       "\n",
       "    .dataframe tbody tr th {\n",
       "        vertical-align: top;\n",
       "    }\n",
       "\n",
       "    .dataframe thead th {\n",
       "        text-align: right;\n",
       "    }\n",
       "</style>\n",
       "<table border=\"1\" class=\"dataframe\">\n",
       "  <thead>\n",
       "    <tr style=\"text-align: right;\">\n",
       "      <th></th>\n",
       "      <th>predicted labels</th>\n",
       "      <th>true labels</th>\n",
       "    </tr>\n",
       "  </thead>\n",
       "  <tbody>\n",
       "    <tr>\n",
       "      <th>0</th>\n",
       "      <td>2</td>\n",
       "      <td>1</td>\n",
       "    </tr>\n",
       "    <tr>\n",
       "      <th>1</th>\n",
       "      <td>1</td>\n",
       "      <td>3</td>\n",
       "    </tr>\n",
       "    <tr>\n",
       "      <th>2</th>\n",
       "      <td>1</td>\n",
       "      <td>2</td>\n",
       "    </tr>\n",
       "    <tr>\n",
       "      <th>3</th>\n",
       "      <td>0</td>\n",
       "      <td>2</td>\n",
       "    </tr>\n",
       "    <tr>\n",
       "      <th>4</th>\n",
       "      <td>0</td>\n",
       "      <td>2</td>\n",
       "    </tr>\n",
       "    <tr>\n",
       "      <th>...</th>\n",
       "      <td>...</td>\n",
       "      <td>...</td>\n",
       "    </tr>\n",
       "    <tr>\n",
       "      <th>138</th>\n",
       "      <td>1</td>\n",
       "      <td>3</td>\n",
       "    </tr>\n",
       "    <tr>\n",
       "      <th>140</th>\n",
       "      <td>0</td>\n",
       "      <td>2</td>\n",
       "    </tr>\n",
       "    <tr>\n",
       "      <th>141</th>\n",
       "      <td>1</td>\n",
       "      <td>3</td>\n",
       "    </tr>\n",
       "    <tr>\n",
       "      <th>142</th>\n",
       "      <td>1</td>\n",
       "      <td>3</td>\n",
       "    </tr>\n",
       "    <tr>\n",
       "      <th>143</th>\n",
       "      <td>2</td>\n",
       "      <td>1</td>\n",
       "    </tr>\n",
       "  </tbody>\n",
       "</table>\n",
       "<p>109 rows × 2 columns</p>\n",
       "</div>"
      ],
      "text/plain": [
       "     predicted labels  true labels\n",
       "0                   2            1\n",
       "1                   1            3\n",
       "2                   1            2\n",
       "3                   0            2\n",
       "4                   0            2\n",
       "..                ...          ...\n",
       "138                 1            3\n",
       "140                 0            2\n",
       "141                 1            3\n",
       "142                 1            3\n",
       "143                 2            1\n",
       "\n",
       "[109 rows x 2 columns]"
      ]
     },
     "metadata": {},
     "output_type": "display_data"
    }
   ],
   "source": [
    "train_data['label'] = train_label\n",
    "train = train_data.drop_duplicates()\n",
    "display(pd.DataFrame(data={'predicted labels':labels, 'true labels':train['label']}))"
   ]
  },
  {
   "cell_type": "markdown",
   "metadata": {},
   "source": [
    "##### Note that here the actual tags and cluster names do not need to be the same, as your naming may be different, but here each cluster name must go to a specific tag (mapping)\n",
    "0 ==== > 2\n",
    "\n",
    "1 ==== > 3\n",
    "\n",
    "2 ==== > 1"
   ]
  },
  {
   "cell_type": "markdown",
   "metadata": {},
   "source": [
    "### Test Data:"
   ]
  },
  {
   "cell_type": "code",
   "execution_count": 50,
   "metadata": {},
   "outputs": [],
   "source": [
    "centers = [kmean[2],kmean[0],kmean[1]]\n",
    "kmean_predicted(test_data, centers, test_label)"
   ]
  },
  {
   "cell_type": "markdown",
   "metadata": {},
   "source": [
    "### Confusion Matrix:"
   ]
  },
  {
   "cell_type": "code",
   "execution_count": 56,
   "metadata": {},
   "outputs": [
    {
     "data": {
      "text/html": [
       "<div>\n",
       "<style scoped>\n",
       "    .dataframe tbody tr th:only-of-type {\n",
       "        vertical-align: middle;\n",
       "    }\n",
       "\n",
       "    .dataframe tbody tr th {\n",
       "        vertical-align: top;\n",
       "    }\n",
       "\n",
       "    .dataframe thead tr th {\n",
       "        text-align: left;\n",
       "    }\n",
       "</style>\n",
       "<table border=\"1\" class=\"dataframe\">\n",
       "  <thead>\n",
       "    <tr>\n",
       "      <th></th>\n",
       "      <th></th>\n",
       "      <th colspan=\"3\" halign=\"left\">Predicted_label:</th>\n",
       "    </tr>\n",
       "    <tr>\n",
       "      <th></th>\n",
       "      <th></th>\n",
       "      <th>1</th>\n",
       "      <th>2</th>\n",
       "      <th>3</th>\n",
       "    </tr>\n",
       "  </thead>\n",
       "  <tbody>\n",
       "    <tr>\n",
       "      <th rowspan=\"3\" valign=\"top\">True_label:</th>\n",
       "      <th>1</th>\n",
       "      <td>7.0</td>\n",
       "      <td>0.0</td>\n",
       "      <td>1.0</td>\n",
       "    </tr>\n",
       "    <tr>\n",
       "      <th>2</th>\n",
       "      <td>0.0</td>\n",
       "      <td>8.0</td>\n",
       "      <td>2.0</td>\n",
       "    </tr>\n",
       "    <tr>\n",
       "      <th>3</th>\n",
       "      <td>0.0</td>\n",
       "      <td>5.0</td>\n",
       "      <td>8.0</td>\n",
       "    </tr>\n",
       "  </tbody>\n",
       "</table>\n",
       "</div>"
      ],
      "text/plain": [
       "              Predicted_label:          \n",
       "                             1    2    3\n",
       "True_label: 1              7.0  0.0  1.0\n",
       "            2              0.0  8.0  2.0\n",
       "            3              0.0  5.0  8.0"
      ]
     },
     "metadata": {},
     "output_type": "display_data"
    }
   ],
   "source": [
    "Confusion_Matrix(test_data['label'], test_data['cluster'])"
   ]
  },
  {
   "cell_type": "markdown",
   "metadata": {},
   "source": [
    "### scikit-learn (kmeans)"
   ]
  },
  {
   "cell_type": "code",
   "execution_count": 74,
   "metadata": {},
   "outputs": [
    {
     "data": {
      "text/html": [
       "<div>\n",
       "<style scoped>\n",
       "    .dataframe tbody tr th:only-of-type {\n",
       "        vertical-align: middle;\n",
       "    }\n",
       "\n",
       "    .dataframe tbody tr th {\n",
       "        vertical-align: top;\n",
       "    }\n",
       "\n",
       "    .dataframe thead tr th {\n",
       "        text-align: left;\n",
       "    }\n",
       "</style>\n",
       "<table border=\"1\" class=\"dataframe\">\n",
       "  <thead>\n",
       "    <tr>\n",
       "      <th></th>\n",
       "      <th></th>\n",
       "      <th colspan=\"3\" halign=\"left\">Predicted_label:</th>\n",
       "    </tr>\n",
       "    <tr>\n",
       "      <th></th>\n",
       "      <th></th>\n",
       "      <th>1</th>\n",
       "      <th>2</th>\n",
       "      <th>3</th>\n",
       "    </tr>\n",
       "  </thead>\n",
       "  <tbody>\n",
       "    <tr>\n",
       "      <th rowspan=\"3\" valign=\"top\">True_label:</th>\n",
       "      <th>1</th>\n",
       "      <td>8.0</td>\n",
       "      <td>0.0</td>\n",
       "      <td>2.0</td>\n",
       "    </tr>\n",
       "    <tr>\n",
       "      <th>2</th>\n",
       "      <td>0.0</td>\n",
       "      <td>7.0</td>\n",
       "      <td>1.0</td>\n",
       "    </tr>\n",
       "    <tr>\n",
       "      <th>3</th>\n",
       "      <td>5.0</td>\n",
       "      <td>0.0</td>\n",
       "      <td>7.0</td>\n",
       "    </tr>\n",
       "  </tbody>\n",
       "</table>\n",
       "</div>"
      ],
      "text/plain": [
       "              Predicted_label:          \n",
       "                             1    2    3\n",
       "True_label: 1              8.0  0.0  2.0\n",
       "            2              0.0  7.0  1.0\n",
       "            3              5.0  0.0  7.0"
      ]
     },
     "metadata": {},
     "output_type": "display_data"
    }
   ],
   "source": [
    "from sklearn.cluster import KMeans\n",
    "\n",
    "train_data =  pd.read_csv(\"Train_Data.csv\")\n",
    "train_label =  pd.read_csv(\"Train_Labels.csv\")\n",
    "\n",
    "test_data =  pd.read_csv(\"Test_Data.csv\")\n",
    "test_label =  pd.read_csv(\"Test_Labels.csv\")\n",
    "test_label[test_label['1'] != 3] = test_label[test_label['1'] != 3]%2+1\n",
    "\n",
    "kmeans = KMeans(n_clusters=3, random_state=0).fit(train_data)\n",
    "predicted_labels = kmeans.predict(test_data) +1\n",
    "Confusion_Matrix(np.array(test_label), predicted_labels)\n"
   ]
  },
  {
   "cell_type": "markdown",
   "metadata": {},
   "source": [
    "Sharare Zolghadr (610395109)"
   ]
  }
 ],
 "metadata": {
  "kernelspec": {
   "display_name": "Python 3",
   "language": "python",
   "name": "python3"
  },
  "language_info": {
   "codemirror_mode": {
    "name": "ipython",
    "version": 3
   },
   "file_extension": ".py",
   "mimetype": "text/x-python",
   "name": "python",
   "nbconvert_exporter": "python",
   "pygments_lexer": "ipython3",
   "version": "3.6.8"
  }
 },
 "nbformat": 4,
 "nbformat_minor": 4
}
